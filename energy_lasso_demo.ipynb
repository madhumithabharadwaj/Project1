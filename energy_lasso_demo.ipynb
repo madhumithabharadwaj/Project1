{
 "cells": [
  {
   "cell_type": "markdown",
   "id": "081be507",
   "metadata": {},
   "source": [
    "# Lasso Homotopy Demo on Energy Efficiency Dataset\n",
    "\n",
    "This notebook demonstrates how the custom `LassoHomotopyModel` works on the UCI Energy Efficiency dataset.  \n",
    "We fit the model, measure performance (MSE and R²), and visualize the learned sparse coefficients.\n",
    "\n",
    "- **Target**: Heating Load  \n",
    "- **Features**: 8 building design parameters\n"
   ]
  },
  {
   "cell_type": "code",
   "execution_count": null,
   "id": "45f25f92",
   "metadata": {},
   "outputs": [],
   "source": [
    "import sys\n",
    "import os\n",
    "import pandas as pd\n",
    "import numpy as np\n",
    "import matplotlib.pyplot as plt\n",
    "from sklearn.metrics import mean_squared_error, r2_score\n",
    "\n",
    "# Add path to import your model\n",
    "sys.path.insert(0, os.path.abspath(\"../\"))\n",
    "\n",
    "from LassoHomotopy.model.LassoHomotopy import LassoHomotopyModel\n"
   ]
  },
  {
   "cell_type": "code",
   "execution_count": null,
   "id": "81dc98b4",
   "metadata": {},
   "outputs": [],
   "source": [
    "df = pd.read_excel(\"ENB2012_data.xlsx\")\n",
    "X = df.iloc[:, :8].values\n",
    "y = df.iloc[:, 8].values  # Heating Load\n",
    "\n",
    "feature_names = df.columns[:8]\n",
    "print(\"Dataset shape:\", X.shape)\n",
    "df.head()\n"
   ]
  },
  {
   "cell_type": "code",
   "execution_count": null,
   "id": "dbe7b7c5",
   "metadata": {},
   "outputs": [],
   "source": [
    "model = LassoHomotopyModel()\n",
    "results = model.fit(X, y, tol=0.1)\n",
    "\n",
    "beta = results.coef_\n"
   ]
  },
  {
   "cell_type": "code",
   "execution_count": null,
   "id": "c23fc42e",
   "metadata": {},
   "outputs": [],
   "source": [
    "y_pred = results.predict(X)\n",
    "\n",
    "mse = mean_squared_error(y, y_pred)\n",
    "r2 = r2_score(y, y_pred)\n",
    "num_zero = np.sum(np.abs(beta) < 1e-2)\n",
    "\n",
    "print(\"🔍 MSE:\", round(mse, 2))\n",
    "print(\"📈 R²:\", round(r2, 4))\n",
    "print(\"🧹 Near-zero coefficients:\", num_zero, \"/\", len(beta))\n"
   ]
  },
  {
   "cell_type": "code",
   "execution_count": null,
   "id": "aa1f6c05",
   "metadata": {},
   "outputs": [],
   "source": [
    "plt.figure(figsize=(10, 5))\n",
    "plt.bar(feature_names, beta)\n",
    "plt.axhline(0, color='gray', linestyle='--')\n",
    "plt.title(\"LASSO Coefficients (Heating Load)\")\n",
    "plt.ylabel(\"Coefficient Value\")\n",
    "plt.xticks(rotation=45)\n",
    "plt.tight_layout()\n",
    "plt.show()\n"
   ]
  },
  {
   "cell_type": "markdown",
   "id": "1ebda7b6",
   "metadata": {},
   "source": [
    "### ✅ Summary\n",
    "- The model produced sparse coefficients: only a few features had large values.\n",
    "- R² > 0.8 and MSE < 50 → great fit.\n",
    "- This shows that `LassoHomotopyModel` selects only the most informative features, which helps with interpretability and generalization.\n"
   ]
  }
 ],
 "metadata": {
  "language_info": {
   "name": "python"
  }
 },
 "nbformat": 4,
 "nbformat_minor": 5
}
